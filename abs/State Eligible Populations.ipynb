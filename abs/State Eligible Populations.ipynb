{
 "cells": [
  {
   "cell_type": "markdown",
   "id": "e3d9599d",
   "metadata": {},
   "source": [
    "# State Populations"
   ]
  },
  {
   "cell_type": "markdown",
   "id": "8c3c2083",
   "metadata": {
    "toc": true
   },
   "source": [
    "<h1>Table of Contents<span class=\"tocSkip\"></span></h1>\n",
    "<div class=\"toc\"><ul class=\"toc-item\"><li><span><a href=\"#Set-up\" data-toc-modified-id=\"Set-up-1\"><span class=\"toc-item-num\">1&nbsp;&nbsp;</span>Set-up</a></span></li><li><span><a href=\"#Capture\" data-toc-modified-id=\"Capture-2\"><span class=\"toc-item-num\">2&nbsp;&nbsp;</span>Capture</a></span></li></ul></div>"
   ]
  },
  {
   "cell_type": "markdown",
   "id": "c2e92cd1",
   "metadata": {},
   "source": [
    "## Set-up"
   ]
  },
  {
   "cell_type": "code",
   "execution_count": 1,
   "id": "da6d9773",
   "metadata": {
    "ExecuteTime": {
     "end_time": "2021-10-03T22:30:48.641172Z",
     "start_time": "2021-10-03T22:30:48.132405Z"
    }
   },
   "outputs": [],
   "source": [
    "import numpy as np\n",
    "import pandas as pd"
   ]
  },
  {
   "cell_type": "code",
   "execution_count": 2,
   "id": "ce1aa83b",
   "metadata": {
    "ExecuteTime": {
     "end_time": "2021-10-03T22:30:48.646061Z",
     "start_time": "2021-10-03T22:30:48.642999Z"
    }
   },
   "outputs": [],
   "source": [
    "files = {\n",
    "    'NSW': '3101051.xls',\n",
    "    'Victoria': '3101052.xls',\n",
    "    'Queensland': '3101053.xls',\n",
    "    'SA': '3101054.xls',\n",
    "    'WA': '3101055.xls',\n",
    "    'Tasmania': '3101056.xls',\n",
    "    'NT': '3101057.xls',\n",
    "    'ACT': '3101058.xls',\n",
    "}"
   ]
  },
  {
   "cell_type": "markdown",
   "id": "b3623aa2",
   "metadata": {},
   "source": [
    "## Capture"
   ]
  },
  {
   "cell_type": "code",
   "execution_count": 3,
   "id": "9718f4cc",
   "metadata": {
    "ExecuteTime": {
     "end_time": "2021-10-03T22:30:49.363819Z",
     "start_time": "2021-10-03T22:30:48.647398Z"
    }
   },
   "outputs": [
    {
     "data": {
      "text/plain": [
       "{'NSW': 8167063,\n",
       " 'Victoria': 6693860,\n",
       " 'Queensland': 5175273,\n",
       " 'SA': 1770279,\n",
       " 'WA': 2664227,\n",
       " 'Tasmania': 540536,\n",
       " 'NT': 246223,\n",
       " 'ACT': 431215}"
      ]
     },
     "execution_count": 3,
     "metadata": {},
     "output_type": "execute_result"
    }
   ],
   "source": [
    "age_and_up = 0 # 0 or 16\n",
    "\n",
    "totals = {}\n",
    "for state, filename in files.items():\n",
    "    xl = pd.ExcelFile(filename)\n",
    "    data_sheets = [x for x in xl.sheet_names if 'Data' in x]\n",
    "    frame = [xl.parse(name, index_col=0, header=0) for name in data_sheets]\n",
    "    frame = pd.concat(frame, axis=1)\n",
    "    frame = frame[frame.columns[frame.columns.str.contains('Persons')]]\n",
    "    state_total = frame[frame.columns[age_and_up:]].iloc[-1].sum()\n",
    "    totals[state] = state_total\n",
    "totals"
   ]
  },
  {
   "cell_type": "code",
   "execution_count": null,
   "id": "35453cfb",
   "metadata": {},
   "outputs": [],
   "source": []
  }
 ],
 "metadata": {
  "kernelspec": {
   "display_name": "Python 3 (ipykernel)",
   "language": "python",
   "name": "python3"
  },
  "language_info": {
   "codemirror_mode": {
    "name": "ipython",
    "version": 3
   },
   "file_extension": ".py",
   "mimetype": "text/x-python",
   "name": "python",
   "nbconvert_exporter": "python",
   "pygments_lexer": "ipython3",
   "version": "3.8.11"
  },
  "toc": {
   "base_numbering": 1,
   "nav_menu": {},
   "number_sections": true,
   "sideBar": true,
   "skip_h1_title": true,
   "title_cell": "Table of Contents",
   "title_sidebar": "Contents",
   "toc_cell": true,
   "toc_position": {
    "height": "calc(100% - 180px)",
    "left": "10px",
    "top": "150px",
    "width": "234.054px"
   },
   "toc_section_display": true,
   "toc_window_display": true
  }
 },
 "nbformat": 4,
 "nbformat_minor": 5
}
