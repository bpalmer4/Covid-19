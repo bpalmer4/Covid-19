{
 "cells": [
  {
   "cell_type": "markdown",
   "metadata": {},
   "source": [
    "# COVID19 testing"
   ]
  },
  {
   "cell_type": "markdown",
   "metadata": {
    "toc": true
   },
   "source": [
    "<h1>Table of Contents<span class=\"tocSkip\"></span></h1>\n",
    "<div class=\"toc\"><ul class=\"toc-item\"><li><span><a href=\"#Usual-Python-set-up\" data-toc-modified-id=\"Usual-Python-set-up-1\"><span class=\"toc-item-num\">1&nbsp;&nbsp;</span>Usual Python set-up</a></span></li><li><span><a href=\"#Grab-some-testing-data\" data-toc-modified-id=\"Grab-some-testing-data-2\"><span class=\"toc-item-num\">2&nbsp;&nbsp;</span>Grab some testing data</a></span></li><li><span><a href=\"#Plot-national-test-positivity-rates\" data-toc-modified-id=\"Plot-national-test-positivity-rates-3\"><span class=\"toc-item-num\">3&nbsp;&nbsp;</span>Plot national test positivity rates</a></span></li><li><span><a href=\"#Finished\" data-toc-modified-id=\"Finished-4\"><span class=\"toc-item-num\">4&nbsp;&nbsp;</span>Finished</a></span></li></ul></div>"
   ]
  },
  {
   "cell_type": "markdown",
   "metadata": {},
   "source": [
    "## Usual Python set-up"
   ]
  },
  {
   "cell_type": "code",
   "execution_count": 1,
   "metadata": {
    "ExecuteTime": {
     "end_time": "2021-06-14T07:48:08.306851Z",
     "start_time": "2021-06-14T07:48:07.686096Z"
    }
   },
   "outputs": [],
   "source": [
    "# imports\n",
    "import sys\n",
    "import pandas as pd\n",
    "import numpy as np\n",
    "import matplotlib.pyplot as plt\n",
    "import matplotlib.dates as mdates\n",
    "import matplotlib.units as munits\n",
    "import datetime\n",
    "from pathlib import Path"
   ]
  },
  {
   "cell_type": "code",
   "execution_count": 2,
   "metadata": {
    "ExecuteTime": {
     "end_time": "2021-06-14T07:48:08.312243Z",
     "start_time": "2021-06-14T07:48:08.308668Z"
    }
   },
   "outputs": [],
   "source": [
    "# local imports\n",
    "sys.path.append(r'../bin')\n",
    "import plotstuff as ps"
   ]
  },
  {
   "cell_type": "code",
   "execution_count": 3,
   "metadata": {
    "ExecuteTime": {
     "end_time": "2021-06-14T07:48:08.318308Z",
     "start_time": "2021-06-14T07:48:08.316197Z"
    }
   },
   "outputs": [],
   "source": [
    "# display settings\n",
    "pd.options.display.max_rows = 999\n",
    "pd.options.display.max_columns = 999"
   ]
  },
  {
   "cell_type": "code",
   "execution_count": 4,
   "metadata": {
    "ExecuteTime": {
     "end_time": "2021-06-14T07:48:08.323643Z",
     "start_time": "2021-06-14T07:48:08.319577Z"
    }
   },
   "outputs": [],
   "source": [
    "# plotting stuff\n",
    "plt.style.use('ggplot')\n",
    "\n",
    "# matplotlib stuff for date formatting xticklabels\n",
    "converter = mdates.ConciseDateConverter()\n",
    "munits.registry[np.datetime64] = converter\n",
    "munits.registry[datetime.date] = converter\n",
    "munits.registry[datetime.datetime] = converter\n",
    "\n",
    "CHART_DIRECTORY_BASE = '../charts'\n",
    "Path(CHART_DIRECTORY_BASE).mkdir(parents=True, exist_ok=True)\n",
    "CHART_DIRECTORY = CHART_DIRECTORY_BASE + '/!Test-'\n",
    "\n",
    "%matplotlib inline"
   ]
  },
  {
   "cell_type": "markdown",
   "metadata": {},
   "source": [
    "## Grab some testing data"
   ]
  },
  {
   "cell_type": "code",
   "execution_count": 5,
   "metadata": {
    "ExecuteTime": {
     "end_time": "2021-06-14T07:48:13.537011Z",
     "start_time": "2021-06-14T07:48:08.325218Z"
    }
   },
   "outputs": [
    {
     "name": "stdout",
     "output_type": "stream",
     "text": [
      "Data to: 2021-06-13 00:00:00\n"
     ]
    }
   ],
   "source": [
    "data = pd.read_csv(\n",
    "    'https://github.com/owid/covid-19-data/'+\n",
    "    'raw/master/public/data/owid-covid-data.csv', \n",
    "    header=0)\n",
    "\n",
    "data.date = pd.to_datetime(data.date) # fix dates\n",
    "\n",
    "print(f'Data to: {data.date.sort_values().iloc[-1]}')"
   ]
  },
  {
   "cell_type": "code",
   "execution_count": 6,
   "metadata": {
    "ExecuteTime": {
     "end_time": "2021-06-14T07:48:13.543830Z",
     "start_time": "2021-06-14T07:48:13.538860Z"
    }
   },
   "outputs": [
    {
     "data": {
      "text/plain": [
       "Index(['iso_code', 'continent', 'location', 'date', 'total_cases', 'new_cases',\n",
       "       'new_cases_smoothed', 'total_deaths', 'new_deaths',\n",
       "       'new_deaths_smoothed', 'total_cases_per_million',\n",
       "       'new_cases_per_million', 'new_cases_smoothed_per_million',\n",
       "       'total_deaths_per_million', 'new_deaths_per_million',\n",
       "       'new_deaths_smoothed_per_million', 'reproduction_rate', 'icu_patients',\n",
       "       'icu_patients_per_million', 'hosp_patients',\n",
       "       'hosp_patients_per_million', 'weekly_icu_admissions',\n",
       "       'weekly_icu_admissions_per_million', 'weekly_hosp_admissions',\n",
       "       'weekly_hosp_admissions_per_million', 'new_tests', 'total_tests',\n",
       "       'total_tests_per_thousand', 'new_tests_per_thousand',\n",
       "       'new_tests_smoothed', 'new_tests_smoothed_per_thousand',\n",
       "       'positive_rate', 'tests_per_case', 'tests_units', 'total_vaccinations',\n",
       "       'people_vaccinated', 'people_fully_vaccinated', 'new_vaccinations',\n",
       "       'new_vaccinations_smoothed', 'total_vaccinations_per_hundred',\n",
       "       'people_vaccinated_per_hundred', 'people_fully_vaccinated_per_hundred',\n",
       "       'new_vaccinations_smoothed_per_million', 'stringency_index',\n",
       "       'population', 'population_density', 'median_age', 'aged_65_older',\n",
       "       'aged_70_older', 'gdp_per_capita', 'extreme_poverty',\n",
       "       'cardiovasc_death_rate', 'diabetes_prevalence', 'female_smokers',\n",
       "       'male_smokers', 'handwashing_facilities', 'hospital_beds_per_thousand',\n",
       "       'life_expectancy', 'human_development_index', 'excess_mortality'],\n",
       "      dtype='object')"
      ]
     },
     "execution_count": 6,
     "metadata": {},
     "output_type": "execute_result"
    }
   ],
   "source": [
    "data.columns"
   ]
  },
  {
   "cell_type": "code",
   "execution_count": 7,
   "metadata": {
    "ExecuteTime": {
     "end_time": "2021-06-14T07:48:13.556130Z",
     "start_time": "2021-06-14T07:48:13.546680Z"
    }
   },
   "outputs": [
    {
     "data": {
      "text/plain": [
       "array(['Afghanistan', 'Africa', 'Albania', 'Algeria', 'Andorra', 'Angola',\n",
       "       'Anguilla', 'Antigua and Barbuda', 'Argentina', 'Armenia', 'Aruba',\n",
       "       'Asia', 'Australia', 'Austria', 'Azerbaijan', 'Bahamas', 'Bahrain',\n",
       "       'Bangladesh', 'Barbados', 'Belarus', 'Belgium', 'Belize', 'Benin',\n",
       "       'Bermuda', 'Bhutan', 'Bolivia', 'Bonaire Sint Eustatius and Saba',\n",
       "       'Bosnia and Herzegovina', 'Botswana', 'Brazil',\n",
       "       'British Virgin Islands', 'Brunei', 'Bulgaria', 'Burkina Faso',\n",
       "       'Burundi', 'Cambodia', 'Cameroon', 'Canada', 'Cape Verde',\n",
       "       'Cayman Islands', 'Central African Republic', 'Chad', 'Chile',\n",
       "       'China', 'Colombia', 'Comoros', 'Congo', 'Cook Islands',\n",
       "       'Costa Rica', \"Cote d'Ivoire\", 'Croatia', 'Cuba', 'Curacao',\n",
       "       'Cyprus', 'Czechia', 'Democratic Republic of Congo', 'Denmark',\n",
       "       'Djibouti', 'Dominica', 'Dominican Republic', 'Ecuador', 'Egypt',\n",
       "       'El Salvador', 'Equatorial Guinea', 'Eritrea', 'Estonia',\n",
       "       'Eswatini', 'Ethiopia', 'Europe', 'European Union',\n",
       "       'Faeroe Islands', 'Falkland Islands', 'Fiji', 'Finland', 'France',\n",
       "       'French Polynesia', 'Gabon', 'Gambia', 'Georgia', 'Germany',\n",
       "       'Ghana', 'Gibraltar', 'Greece', 'Greenland', 'Grenada',\n",
       "       'Guatemala', 'Guernsey', 'Guinea', 'Guinea-Bissau', 'Guyana',\n",
       "       'Haiti', 'Honduras', 'Hong Kong', 'Hungary', 'Iceland', 'India',\n",
       "       'Indonesia', 'International', 'Iran', 'Iraq', 'Ireland',\n",
       "       'Isle of Man', 'Israel', 'Italy', 'Jamaica', 'Japan', 'Jersey',\n",
       "       'Jordan', 'Kazakhstan', 'Kenya', 'Kiribati', 'Kosovo', 'Kuwait',\n",
       "       'Kyrgyzstan', 'Laos', 'Latvia', 'Lebanon', 'Lesotho', 'Liberia',\n",
       "       'Libya', 'Liechtenstein', 'Lithuania', 'Luxembourg', 'Macao',\n",
       "       'Madagascar', 'Malawi', 'Malaysia', 'Maldives', 'Mali', 'Malta',\n",
       "       'Marshall Islands', 'Mauritania', 'Mauritius', 'Mexico',\n",
       "       'Micronesia (country)', 'Moldova', 'Monaco', 'Mongolia',\n",
       "       'Montenegro', 'Montserrat', 'Morocco', 'Mozambique', 'Myanmar',\n",
       "       'Namibia', 'Nauru', 'Nepal', 'Netherlands', 'New Caledonia',\n",
       "       'New Zealand', 'Nicaragua', 'Niger', 'Nigeria', 'North America',\n",
       "       'North Macedonia', 'Northern Cyprus', 'Norway', 'Oceania', 'Oman',\n",
       "       'Pakistan', 'Palestine', 'Panama', 'Papua New Guinea', 'Paraguay',\n",
       "       'Peru', 'Philippines', 'Poland', 'Portugal', 'Qatar', 'Romania',\n",
       "       'Russia', 'Rwanda', 'Saint Helena', 'Saint Kitts and Nevis',\n",
       "       'Saint Lucia', 'Saint Vincent and the Grenadines', 'Samoa',\n",
       "       'San Marino', 'Sao Tome and Principe', 'Saudi Arabia', 'Senegal',\n",
       "       'Serbia', 'Seychelles', 'Sierra Leone', 'Singapore',\n",
       "       'Sint Maarten (Dutch part)', 'Slovakia', 'Slovenia',\n",
       "       'Solomon Islands', 'Somalia', 'South Africa', 'South America',\n",
       "       'South Korea', 'South Sudan', 'Spain', 'Sri Lanka', 'Sudan',\n",
       "       'Suriname', 'Sweden', 'Switzerland', 'Syria', 'Taiwan',\n",
       "       'Tajikistan', 'Tanzania', 'Thailand', 'Timor', 'Togo', 'Tonga',\n",
       "       'Trinidad and Tobago', 'Tunisia', 'Turkey', 'Turkmenistan',\n",
       "       'Turks and Caicos Islands', 'Tuvalu', 'Uganda', 'Ukraine',\n",
       "       'United Arab Emirates', 'United Kingdom', 'United States',\n",
       "       'Uruguay', 'Uzbekistan', 'Vanuatu', 'Vatican', 'Venezuela',\n",
       "       'Vietnam', 'Wallis and Futuna', 'World', 'Yemen', 'Zambia',\n",
       "       'Zimbabwe'], dtype=object)"
      ]
     },
     "execution_count": 7,
     "metadata": {},
     "output_type": "execute_result"
    }
   ],
   "source": [
    "data.location.unique()"
   ]
  },
  {
   "cell_type": "markdown",
   "metadata": {},
   "source": [
    "## Plot national test positivity rates"
   ]
  },
  {
   "cell_type": "code",
   "execution_count": 8,
   "metadata": {
    "ExecuteTime": {
     "end_time": "2021-06-14T07:48:13.566574Z",
     "start_time": "2021-06-14T07:48:13.558831Z"
    }
   },
   "outputs": [],
   "source": [
    "def get_national_data(nation, positivity, all_tests):\n",
    "    \n",
    "    CONTENT_THRESHOLD = 100 # days\n",
    "    MAX_MISSINGNESS = 32 # days - at least monthly data\n",
    "    \n",
    "    rate = positivity[nation]\n",
    "    \n",
    "    if nation not in all_tests.columns:\n",
    "        print(f'Exit 1 for {nation} - no test data')\n",
    "        return None, None\n",
    "    \n",
    "    test = all_tests[nation]\n",
    "    if test.min() < 0:\n",
    "        print(f'Exit 2 for {nation} - min number of tests less that zero')\n",
    "        return None, None\n",
    "\n",
    "    from_test = test.first_valid_index()\n",
    "    from_rate = rate.first_valid_index()\n",
    "    if not from_test or not from_rate:\n",
    "        print(f'Exit 3 for {nation} - first test: {from_test}; first positivity rate: {from_rate}')\n",
    "        return None, None\n",
    "    today = pd.to_datetime(\"today\")    \n",
    "    test = test[(test.index >= from_test) & (test.index <= today)].copy()\n",
    "    rate = rate[(rate.index >= from_rate) & (rate.index <= today)].copy()\n",
    "    \n",
    "    # Note enough Rate Data - noting some nations only have periodic data\n",
    "    missing_groups = (rate.notna().cumsum())[rate.isna()]\n",
    "    longest_gap = missing_groups.groupby(missing_groups).agg(len).max()\n",
    "    content = rate.notna().sum()\n",
    "    if longest_gap and longest_gap > MAX_MISSINGNESS and content < CONTENT_THRESHOLD:\n",
    "        print(f'Exit 4 {nation} - longest gap: {longest_gap} days;  data points: {content}')\n",
    "        return None, None\n",
    "    rate = rate.dropna() # will not plot a continuous line with missing values\n",
    "    \n",
    "    # for next test\n",
    "    if len(rate) < 2:\n",
    "        print(f'Exit 5 {nation} - less than two rate data points')\n",
    "        return None, None\n",
    "        \n",
    "    elapsed_days = (rate.index[-1] - rate.index[0]) / pd.Timedelta(days=1)\n",
    "    if elapsed_days < CONTENT_THRESHOLD:\n",
    "        print(f'Exit 6 {nation} - longest period with data: {elapsed_days} days') \n",
    "        return None, None\n",
    "    \n",
    "    return rate, test # data as Series"
   ]
  },
  {
   "cell_type": "code",
   "execution_count": 9,
   "metadata": {
    "ExecuteTime": {
     "end_time": "2021-06-14T07:48:13.579011Z",
     "start_time": "2021-06-14T07:48:13.568891Z"
    }
   },
   "outputs": [],
   "source": [
    "def plot_national_rate_test(nation, rate, test):\n",
    "    \n",
    "    MIN_POSITIVITY = 5 # per cent\n",
    "    \n",
    "    fig, ax = plt.subplots()\n",
    "    ax.xaxis_date()\n",
    "    axr = ax.twinx()\n",
    "    ax.bar(test.index, test, color='#dd0000', \n",
    "           label='Daily New Tests per Thousand Pop (Smoothed)')\n",
    "    axr.plot(rate.index, rate, color='#0000dd', \n",
    "             lw=2.0, ls='--', label='Positivity Rate')\n",
    "    \n",
    "    # messy axis stuff\n",
    "    ax.set_ylabel(None)\n",
    "    ax.set_xlabel(None)\n",
    "    axr.set_ylabel(None)\n",
    "    ymax = max(MIN_POSITIVITY, rate.max()) * 1.02\n",
    "    axr.set_ylim([0, ymax])\n",
    "    axr.grid(False)\n",
    "    \n",
    "    # y-axis labels - the hard way\n",
    "    lHeight = 0.96\n",
    "    lInstep = 0.02\n",
    "    fig.text(1.0-lInstep, lHeight, '% Positive',\n",
    "            ha='right', va='top', fontsize=11,\n",
    "            color='#333333')\n",
    "    fig.text(lInstep, lHeight, \"Daily Tests/'000\",\n",
    "            ha='left', va='top', fontsize=11,\n",
    "            color='#333333')\n",
    "\n",
    "    # put in a legend\n",
    "    h1, l1 = ax.get_legend_handles_labels()\n",
    "    h2, l2 = axr.get_legend_handles_labels()\n",
    "    ax.legend(h1+h2, l1+l2, loc='upper left')\n",
    "    \n",
    "    # tidy up margins\n",
    "    MARGINS = 0.01\n",
    "    ax.margins(MARGINS)\n",
    "    axr.margins(MARGINS)    \n",
    "\n",
    "    ps.finalise_plot(ax, \n",
    "                     title=f'COVID Test and Positivity Rates: {nation}',\n",
    "                     set_size_inches=(8, 4),\n",
    "                     rfooter='Source: https://github.com/owid/covid-19-data/',\n",
    "                     tight_layout_pad=1,\n",
    "                     save_as=f'{CHART_DIRECTORY_BASE}/{nation}-tests-pos-rate.png',\n",
    "                     #display=True,\n",
    "                    )"
   ]
  },
  {
   "cell_type": "code",
   "execution_count": 10,
   "metadata": {
    "ExecuteTime": {
     "end_time": "2021-06-14T07:48:13.644445Z",
     "start_time": "2021-06-14T07:48:13.581379Z"
    }
   },
   "outputs": [],
   "source": [
    "# get relevant tables from complete OWID data\n",
    "\n",
    "all_positivity = data.pivot(index='date', columns='location', \n",
    "                values='positive_rate') * 100 # per cent\n",
    "\n",
    "all_tests = data.pivot(index='date', columns='location', \n",
    "                values='new_tests_smoothed_per_thousand') "
   ]
  },
  {
   "cell_type": "code",
   "execution_count": 11,
   "metadata": {
    "ExecuteTime": {
     "end_time": "2021-06-14T07:49:26.301249Z",
     "start_time": "2021-06-14T07:48:13.645796Z"
    },
    "scrolled": false
   },
   "outputs": [
    {
     "name": "stdout",
     "output_type": "stream",
     "text": [
      "Exit 3 for Afghanistan - first test: None; first positivity rate: None\n",
      "Exit 3 for Africa - first test: None; first positivity rate: None\n",
      "Exit 3 for Algeria - first test: None; first positivity rate: None\n",
      "Exit 3 for Angola - first test: None; first positivity rate: None\n",
      "Exit 3 for Anguilla - first test: None; first positivity rate: None\n",
      "Exit 6 Antigua and Barbuda - longest period with data: 2.0 days\n",
      "Exit 3 for Aruba - first test: None; first positivity rate: None\n",
      "Exit 3 for Asia - first test: None; first positivity rate: None\n",
      "Exit 6 Azerbaijan - longest period with data: 36.0 days\n",
      "Exit 3 for Bahamas - first test: None; first positivity rate: None\n",
      "Exit 3 for Barbados - first test: None; first positivity rate: None\n",
      "Exit 6 Belize - longest period with data: 15.0 days\n",
      "Exit 3 for Benin - first test: None; first positivity rate: None\n",
      "Exit 3 for Bermuda - first test: None; first positivity rate: None\n",
      "Exit 3 for Bonaire Sint Eustatius and Saba - first test: None; first positivity rate: None\n",
      "Exit 3 for Botswana - first test: None; first positivity rate: None\n",
      "Exit 3 for Brazil - first test: 2020-04-14 00:00:00; first positivity rate: None\n",
      "Exit 3 for British Virgin Islands - first test: None; first positivity rate: None\n",
      "Exit 3 for Brunei - first test: None; first positivity rate: None\n",
      "Exit 3 for Burkina Faso - first test: None; first positivity rate: None\n",
      "Exit 3 for Burundi - first test: None; first positivity rate: None\n",
      "Exit 6 Cambodia - longest period with data: 15.0 days\n",
      "Exit 3 for Cameroon - first test: None; first positivity rate: None\n",
      "Exit 3 for Cayman Islands - first test: None; first positivity rate: None\n",
      "Exit 3 for Central African Republic - first test: None; first positivity rate: None\n",
      "Exit 3 for Chad - first test: None; first positivity rate: None\n",
      "Exit 3 for China - first test: None; first positivity rate: None\n",
      "Exit 3 for Comoros - first test: None; first positivity rate: None\n",
      "Exit 3 for Congo - first test: None; first positivity rate: None\n",
      "Exit 3 for Cook Islands - first test: None; first positivity rate: None\n",
      "Exit 3 for Curacao - first test: None; first positivity rate: None\n",
      "Exit 3 for Djibouti - first test: None; first positivity rate: None\n",
      "Exit 3 for Dominica - first test: None; first positivity rate: None\n",
      "Exit 3 for Egypt - first test: None; first positivity rate: None\n",
      "Exit 6 Equatorial Guinea - longest period with data: 2.0 days\n",
      "Exit 3 for Eritrea - first test: None; first positivity rate: None\n",
      "Exit 3 for Eswatini - first test: None; first positivity rate: None\n",
      "Exit 3 for Europe - first test: None; first positivity rate: None\n",
      "Exit 3 for European Union - first test: None; first positivity rate: None\n",
      "Exit 3 for Faeroe Islands - first test: None; first positivity rate: None\n",
      "Exit 3 for Falkland Islands - first test: None; first positivity rate: None\n",
      "Exit 3 for French Polynesia - first test: None; first positivity rate: None\n",
      "Exit 6 Gabon - longest period with data: 3.0 days\n",
      "Exit 6 Georgia - longest period with data: 62.0 days\n",
      "Exit 3 for Gibraltar - first test: None; first positivity rate: None\n",
      "Exit 3 for Greenland - first test: None; first positivity rate: None\n",
      "Exit 3 for Grenada - first test: None; first positivity rate: None\n",
      "Exit 3 for Guernsey - first test: None; first positivity rate: None\n",
      "Exit 3 for Guinea - first test: None; first positivity rate: None\n",
      "Exit 3 for Guinea-Bissau - first test: None; first positivity rate: None\n",
      "Exit 3 for Guyana - first test: None; first positivity rate: None\n",
      "Exit 3 for Haiti - first test: None; first positivity rate: None\n",
      "Exit 3 for Honduras - first test: None; first positivity rate: None\n",
      "Exit 3 for Iceland - first test: 2020-03-05 00:00:00; first positivity rate: None\n",
      "Exit 3 for International - first test: None; first positivity rate: None\n",
      "Exit 3 for Isle of Man - first test: None; first positivity rate: None\n",
      "Exit 3 for Jersey - first test: None; first positivity rate: None\n",
      "Exit 3 for Kiribati - first test: None; first positivity rate: None\n",
      "Exit 6 Kosovo - longest period with data: 8.0 days\n",
      "Exit 3 for Kyrgyzstan - first test: None; first positivity rate: None\n",
      "Exit 6 Laos - longest period with data: 15.0 days\n",
      "Exit 3 for Lebanon - first test: 2021-05-14 00:00:00; first positivity rate: None\n",
      "Exit 3 for Lesotho - first test: None; first positivity rate: None\n",
      "Exit 3 for Liberia - first test: None; first positivity rate: None\n",
      "Exit 3 for Macao - first test: None; first positivity rate: None\n",
      "Exit 3 for Mali - first test: None; first positivity rate: None\n",
      "Exit 3 for Marshall Islands - first test: None; first positivity rate: None\n",
      "Exit 3 for Mauritania - first test: 2020-04-08 00:00:00; first positivity rate: None\n",
      "Exit 3 for Mauritius - first test: None; first positivity rate: None\n",
      "Exit 3 for Micronesia (country) - first test: None; first positivity rate: None\n",
      "Exit 6 Moldova - longest period with data: 17.0 days\n",
      "Exit 3 for Monaco - first test: None; first positivity rate: None\n",
      "Exit 3 for Montenegro - first test: None; first positivity rate: None\n",
      "Exit 3 for Montserrat - first test: None; first positivity rate: None\n",
      "Exit 3 for Nauru - first test: None; first positivity rate: None\n",
      "Exit 3 for New Caledonia - first test: None; first positivity rate: None\n",
      "Exit 3 for Nicaragua - first test: None; first positivity rate: None\n",
      "Exit 3 for Niger - first test: None; first positivity rate: None\n",
      "Exit 3 for North America - first test: None; first positivity rate: None\n",
      "Exit 3 for Northern Cyprus - first test: None; first positivity rate: None\n",
      "Exit 3 for Oceania - first test: None; first positivity rate: None\n",
      "Exit 4 Oman - longest gap: 318 days;  data points: 51\n",
      "Exit 3 for Papua New Guinea - first test: None; first positivity rate: None\n",
      "Exit 3 for Saint Helena - first test: None; first positivity rate: None\n",
      "Exit 6 Saint Kitts and Nevis - longest period with data: 3.0 days\n",
      "Exit 3 for Saint Lucia - first test: None; first positivity rate: None\n",
      "Exit 3 for Saint Vincent and the Grenadines - first test: None; first positivity rate: None\n",
      "Exit 3 for Samoa - first test: None; first positivity rate: None\n",
      "Exit 3 for San Marino - first test: None; first positivity rate: None\n",
      "Exit 3 for Sao Tome and Principe - first test: None; first positivity rate: None\n",
      "Exit 3 for Seychelles - first test: None; first positivity rate: None\n",
      "Exit 3 for Sierra Leone - first test: None; first positivity rate: None\n",
      "Exit 3 for Sint Maarten (Dutch part) - first test: None; first positivity rate: None\n",
      "Exit 3 for Solomon Islands - first test: None; first positivity rate: None\n",
      "Exit 3 for Somalia - first test: None; first positivity rate: None\n",
      "Exit 3 for South America - first test: None; first positivity rate: None\n",
      "Exit 3 for Sudan - first test: None; first positivity rate: None\n",
      "Exit 3 for Suriname - first test: None; first positivity rate: None\n",
      "Exit 3 for Syria - first test: None; first positivity rate: None\n",
      "Exit 3 for Tajikistan - first test: None; first positivity rate: None\n",
      "Exit 3 for Tanzania - first test: None; first positivity rate: None\n",
      "Exit 3 for Timor - first test: None; first positivity rate: None\n",
      "Exit 3 for Tonga - first test: None; first positivity rate: None\n",
      "Exit 6 Tunisia - longest period with data: 63.0 days\n",
      "Exit 3 for Turkmenistan - first test: None; first positivity rate: None\n",
      "Exit 3 for Turks and Caicos Islands - first test: None; first positivity rate: None\n",
      "Exit 3 for Tuvalu - first test: None; first positivity rate: None\n",
      "Exit 3 for Uzbekistan - first test: None; first positivity rate: None\n",
      "Exit 3 for Vanuatu - first test: None; first positivity rate: None\n",
      "Exit 3 for Vatican - first test: None; first positivity rate: None\n",
      "Exit 3 for Venezuela - first test: None; first positivity rate: None\n",
      "Exit 3 for Wallis and Futuna - first test: None; first positivity rate: None\n",
      "Exit 3 for World - first test: None; first positivity rate: None\n",
      "Exit 3 for Yemen - first test: None; first positivity rate: None\n"
     ]
    }
   ],
   "source": [
    "# Extract and plot tests and positivity rates for each nation\n",
    "\n",
    "for nation in all_positivity.columns:\n",
    "\n",
    "    rate, test = get_national_data(nation, all_positivity, all_tests)\n",
    "    if rate is None or test is None:\n",
    "        continue\n",
    "        \n",
    "    plot_national_rate_test(nation, rate, test)"
   ]
  },
  {
   "cell_type": "markdown",
   "metadata": {},
   "source": [
    "## Finished"
   ]
  },
  {
   "cell_type": "code",
   "execution_count": 12,
   "metadata": {
    "ExecuteTime": {
     "end_time": "2021-06-14T07:49:26.305245Z",
     "start_time": "2021-06-14T07:49:26.302754Z"
    }
   },
   "outputs": [
    {
     "name": "stdout",
     "output_type": "stream",
     "text": [
      "Done\n"
     ]
    }
   ],
   "source": [
    "print('Done')"
   ]
  },
  {
   "cell_type": "code",
   "execution_count": null,
   "metadata": {},
   "outputs": [],
   "source": []
  }
 ],
 "metadata": {
  "kernelspec": {
   "display_name": "Python 3",
   "language": "python",
   "name": "python3"
  },
  "language_info": {
   "codemirror_mode": {
    "name": "ipython",
    "version": 3
   },
   "file_extension": ".py",
   "mimetype": "text/x-python",
   "name": "python",
   "nbconvert_exporter": "python",
   "pygments_lexer": "ipython3",
   "version": "3.8.8"
  },
  "toc": {
   "base_numbering": 1,
   "nav_menu": {},
   "number_sections": true,
   "sideBar": true,
   "skip_h1_title": true,
   "title_cell": "Table of Contents",
   "title_sidebar": "Contents",
   "toc_cell": true,
   "toc_position": {},
   "toc_section_display": true,
   "toc_window_display": true
  }
 },
 "nbformat": 4,
 "nbformat_minor": 4
}
