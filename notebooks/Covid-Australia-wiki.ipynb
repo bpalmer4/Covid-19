{
 "cells": [
  {
   "cell_type": "markdown",
   "metadata": {},
   "source": [
    "# COVID-19 in Australia (from Wikipedia)"
   ]
  },
  {
   "cell_type": "markdown",
   "metadata": {
    "toc": true
   },
   "source": [
    "<h1>Table of Contents<span class=\"tocSkip\"></span></h1>\n",
    "<div class=\"toc\"><ul class=\"toc-item\"><li><span><a href=\"#Python-set-up\" data-toc-modified-id=\"Python-set-up-1\"><span class=\"toc-item-num\">1&nbsp;&nbsp;</span>Python set-up</a></span><ul class=\"toc-item\"><li><span><a href=\"#other-useful-information\" data-toc-modified-id=\"other-useful-information-1.1\"><span class=\"toc-item-num\">1.1&nbsp;&nbsp;</span>other useful information</a></span></li></ul></li><li><span><a href=\"#Scrape-Australian-cumulative-data-from-Wikipedia\" data-toc-modified-id=\"Scrape-Australian-cumulative-data-from-Wikipedia-2\"><span class=\"toc-item-num\">2&nbsp;&nbsp;</span>Scrape Australian cumulative data from Wikipedia</a></span><ul class=\"toc-item\"><li><span><a href=\"#Data-extraction-/-transformation\" data-toc-modified-id=\"Data-extraction-/-transformation-2.1\"><span class=\"toc-item-num\">2.1&nbsp;&nbsp;</span>Data extraction / transformation</a></span></li><li><span><a href=\"#Report-on-data-extraction\" data-toc-modified-id=\"Report-on-data-extraction-2.2\"><span class=\"toc-item-num\">2.2&nbsp;&nbsp;</span>Report on data extraction</a></span></li></ul></li><li><span><a href=\"#Normal-and-semilog-plot-of-cumulative-by-state\" data-toc-modified-id=\"Normal-and-semilog-plot-of-cumulative-by-state-3\"><span class=\"toc-item-num\">3&nbsp;&nbsp;</span>Normal and semilog plot of cumulative by state</a></span><ul class=\"toc-item\"><li><span><a href=\"#Produce-plots\" data-toc-modified-id=\"Produce-plots-3.1\"><span class=\"toc-item-num\">3.1&nbsp;&nbsp;</span>Produce plots</a></span></li></ul></li><li><span><a href=\"#Total-bar-charts---most-recent-day\" data-toc-modified-id=\"Total-bar-charts---most-recent-day-4\"><span class=\"toc-item-num\">4&nbsp;&nbsp;</span>Total bar charts - most recent day</a></span><ul class=\"toc-item\"><li><span><a href=\"#bar-chart---cumulative-cases\" data-toc-modified-id=\"bar-chart---cumulative-cases-4.1\"><span class=\"toc-item-num\">4.1&nbsp;&nbsp;</span>bar chart - cumulative cases</a></span></li><li><span><a href=\"#bar-chart---cumulative-cases-per-capita\" data-toc-modified-id=\"bar-chart---cumulative-cases-per-capita-4.2\"><span class=\"toc-item-num\">4.2&nbsp;&nbsp;</span>bar chart - cumulative cases per capita</a></span></li><li><span><a href=\"#Produce-the-bar-charts\" data-toc-modified-id=\"Produce-the-bar-charts-4.3\"><span class=\"toc-item-num\">4.3&nbsp;&nbsp;</span>Produce the bar charts</a></span></li></ul></li><li><span><a href=\"#Chart-new-and-cumulative-cases\" data-toc-modified-id=\"Chart-new-and-cumulative-cases-5\"><span class=\"toc-item-num\">5&nbsp;&nbsp;</span>Chart new and cumulative cases</a></span><ul class=\"toc-item\"><li><span><a href=\"#Produce-the-daily-new/cum-charts\" data-toc-modified-id=\"Produce-the-daily-new/cum-charts-5.1\"><span class=\"toc-item-num\">5.1&nbsp;&nbsp;</span>Produce the daily new/cum charts</a></span></li></ul></li><li><span><a href=\"#Plot-new-cases:-raw-and-smoothed\" data-toc-modified-id=\"Plot-new-cases:-raw-and-smoothed-6\"><span class=\"toc-item-num\">6&nbsp;&nbsp;</span>Plot new cases: raw and smoothed</a></span></li><li><span><a href=\"#Growth-factor\" data-toc-modified-id=\"Growth-factor-7\"><span class=\"toc-item-num\">7&nbsp;&nbsp;</span>Growth factor</a></span></li><li><span><a href=\"#Regional-per-capita\" data-toc-modified-id=\"Regional-per-capita-8\"><span class=\"toc-item-num\">8&nbsp;&nbsp;</span>Regional per capita</a></span></li><li><span><a href=\"#Recent\" data-toc-modified-id=\"Recent-9\"><span class=\"toc-item-num\">9&nbsp;&nbsp;</span>Recent</a></span></li><li><span><a href=\"#The-End\" data-toc-modified-id=\"The-End-10\"><span class=\"toc-item-num\">10&nbsp;&nbsp;</span>The End</a></span></li></ul></div>"
   ]
  },
  {
   "cell_type": "markdown",
   "metadata": {},
   "source": [
    "## Python set-up"
   ]
  },
  {
   "cell_type": "code",
   "execution_count": 1,
   "metadata": {},
   "outputs": [],
   "source": [
    "# imports\n",
    "import sys\n",
    "import numpy as np\n",
    "import pandas as pd\n",
    "import matplotlib as mpl\n",
    "import matplotlib.pyplot as plt\n",
    "#import matplotlib.animation as animation\n",
    "import matplotlib.dates as mdates\n",
    "import matplotlib.units as munits\n",
    "import datetime\n",
    "from pathlib import Path\n",
    "\n",
    "# local imports\n",
    "sys.path.append(r'../bin')\n",
    "import plotstuff as ps\n",
    "\n",
    "#pandas\n",
    "pd.options.display.max_rows = 999\n",
    "pd.options.display.max_columns = 999\n",
    "\n",
    "# scraping\n",
    "import datetime\n",
    "import requests\n",
    "from bs4 import BeautifulSoup\n",
    "\n",
    "# plotting\n",
    "plt.style.use('ggplot')\n",
    "%matplotlib inline"
   ]
  },
  {
   "cell_type": "markdown",
   "metadata": {},
   "source": [
    "### other useful information"
   ]
  },
  {
   "cell_type": "code",
   "execution_count": 2,
   "metadata": {},
   "outputs": [],
   "source": [
    "# state information\n",
    "AU_COLOURS = ['#dd0000', 'darkorange', 'gold', 'seagreen',\n",
    "              'dodgerblue', 'blue', 'mediumorchid', 'hotpink',\n",
    "              '#555555']  \n",
    "\n",
    "AUSTRALIA = 'Australia'\n",
    "state_pop = {\n",
    "    # source: https://www.abs.gov.au/statistics/people/population/national-state-and-territory-population/latest-release\n",
    "    # population at 30 June 2020\n",
    "    'NSW': 8_164_100,\n",
    "    'VIC': 6_694_900,\n",
    "    'QLD': 5_174_400,\n",
    "    'SA':  1_769_300,\n",
    "    'WA':  2_661_900,\n",
    "    'TAS':   540_600,\n",
    "    'ACT':   431_100,\n",
    "    'NT':    246_000,\n",
    "}\n",
    "\n",
    "N_STATES = len(state_pop)\n",
    "state_pop = pd.Series(state_pop).sort_values()\n",
    "state_names = state_pop.index.to_list()[::-1]\n",
    "state_pop[AUSTRALIA] = state_pop.sum()\n",
    "\n",
    "# save location\n",
    "CHART_DIRECTORY = '../charts'\n",
    "Path(CHART_DIRECTORY).mkdir(parents=True, exist_ok=True)\n",
    "CHART_DIRECTORY += '/!AS1-'\n",
    "\n",
    "# Source\n",
    "SOURCE = 'Source: Wikipedia'\n",
    "\n",
    "# exclude today\n",
    "EXCLUDE_TODAY = True"
   ]
  },
  {
   "cell_type": "markdown",
   "metadata": {},
   "source": [
    "## Scrape Australian cumulative data from Wikipedia"
   ]
  },
  {
   "cell_type": "code",
   "execution_count": 3,
   "metadata": {},
   "outputs": [],
   "source": [
    "def scrape_wiki_data():\n",
    "    \n",
    "    # get cases\n",
    "    url = 'https://en.wikipedia.org/wiki/Template:2019%E2%80%9320_coronavirus_pandemic_data/Australia_medical_cases'\n",
    "    html = requests.get(url).text\n",
    "    soup = BeautifulSoup(html, 'lxml')\n",
    "    tables = soup.findAll('table')\n",
    "    for table in tables:\n",
    "        if table.findParent(\"table\") is None:\n",
    "            cases = pd.read_html(table.prettify(), header=0, index_col=0)[0]\n",
    "            break\n",
    "            \n",
    "    # get deaths\n",
    "    url = 'https://en.wikipedia.org/wiki/Template:COVID-19 pandemic data/Australia deaths'\n",
    "    html = requests.get(url).text\n",
    "    soup = BeautifulSoup(html, 'lxml')\n",
    "    tables = soup.findAll('table')\n",
    "    for table in tables:\n",
    "        if table.findParent(\"table\") is None:\n",
    "            deaths = pd.read_html(table.prettify(), header=1, index_col=0)[0]\n",
    "            break\n",
    "\n",
    "    return cases, deaths\n",
    "\n",
    "#cases, deaths = scrape_wiki_data()\n",
    "#print(deaths)"
   ]
  },
  {
   "cell_type": "code",
   "execution_count": 4,
   "metadata": {},
   "outputs": [],
   "source": [
    "def common_cleaning(df: pd.DataFrame, mode: str) -> pd.DataFrame:\n",
    "    \n",
    "    # 5. make numeric\n",
    "    df = df.astype(float)\n",
    "\n",
    "    # 6. make the index a DatetimeIndex\n",
    "    #    expand to all days\n",
    "    new_year = df.index[df.index.str.contains('1 January')]\n",
    "    base = 0;\n",
    "    year = 2020\n",
    "    index = 0\n",
    "    series = pd.Series(df.index, index=df.index)\n",
    "    while index < len(new_year):\n",
    "        y = df.index.get_loc(new_year[index])\n",
    "        series.iloc[base:y] = series.iloc[base:y] + ' ' + str(year)\n",
    "        year += 1\n",
    "        index += 1\n",
    "        base = y\n",
    "    series.iloc[base:] = series.iloc[base:] + ' ' + str(year)\n",
    "    match = series.str.contains(r'\\d\\d\\d\\d \\d\\d\\d\\d', regex=True)\n",
    "    series[match] = series[match].str.replace(r' \\d\\d\\d\\d$', '', regex=True)\n",
    "    df.index = pd.DatetimeIndex(series).date\n",
    "    latest = df.index[-1]\n",
    "\n",
    "    idx = pd.date_range(df.index.min(), df.index.max())\n",
    "    df = df.reindex(idx, fill_value=np.nan)\n",
    "    df = df.where(df > 0, other=np.nan).ffill().fillna(0)#.astype(int)\n",
    "    \n",
    "    # 7. if the last row is incomplete, drop it\n",
    "    if df[['NSW', 'VIC', 'QLD', 'WA', \n",
    "           'SA', 'TAS', 'ACT', 'NT']].iloc[-1].isna().any():\n",
    "        print('Dropping last day')\n",
    "        df = df[:-1]\n",
    "    \n",
    "    # reindex (to PeriodIndex)\n",
    "    today = datetime.datetime.today().date()\n",
    "    yesterday = pd.Timestamp((today - datetime.timedelta(days=1))).date()\n",
    "    if EXCLUDE_TODAY:\n",
    "        if yesterday > latest:\n",
    "            latest = yesterday\n",
    "    else:\n",
    "        if today > latest:\n",
    "            latest = today\n",
    "    idx = pd.date_range(df.index.min(), latest)\n",
    "    df = df.reindex(idx, fill_value=np.nan).ffill()\n",
    "    \n",
    "    # 8. make sure it is in date order\n",
    "    df = df.sort_index()\n",
    "    \n",
    "    # --- save it, just to be sure - you never know \n",
    "    #     when Wikipedia will stop making this available\n",
    "    SAVE_DIRECTORY = '../saved_AU_data'\n",
    "    Path(SAVE_DIRECTORY).mkdir(parents=True, exist_ok=True)\n",
    "    for_saving = df.copy()\n",
    "    filename = f'{SAVE_DIRECTORY}/Australia-{mode}-{latest}.csv'\n",
    "    for_saving.to_csv(filename)\n",
    "    \n",
    "    return df"
   ]
  },
  {
   "cell_type": "code",
   "execution_count": 5,
   "metadata": {},
   "outputs": [],
   "source": [
    "def clean_wiki_cases(df):    \n",
    "    # --- clean-up what we scraped - very tedious\n",
    "    #     as this table is very messy - fragile\n",
    "    #     as Wikipedia constantly changes its layout\n",
    "    #     and format.\n",
    "\n",
    "    # 1. get rid of footnotes from column names, etc.\n",
    "    df.columns = (df.columns.str.replace('\\[.*\\]', '')\n",
    "                  .str.replace('  ', ' ')\n",
    "                  .str.strip())\n",
    "    df.index = df.index.str.replace('\\[.*\\]', '')\n",
    "\n",
    "    # 2. remove nan and other rows\n",
    "    df = df[df.index.notna()]\n",
    "    df = df[df.index.str.contains('[0-9]')] # not dates\n",
    "    df = df[~df.index.str.contains('Values')]\n",
    "    df = df[~df.index.str.contains('Notes')]\n",
    "\n",
    "\n",
    "    # 3. remove footnotes from specified columns\n",
    "    if 'Ref.' in df.columns:\n",
    "        del df['Ref.']\n",
    "    if 'Reference' in df.columns:\n",
    "        del df['Reference']\n",
    "    for c in df.columns:\n",
    "        df[c] = (df[c].str.replace('\\[.*\\]', '').str.strip())\n",
    "        df[c] = df[c].str.replace(',', '')\n",
    "\n",
    "    # 4. remove '%' text from specified columns\n",
    "    cols = ['% growth']\n",
    "    for c in cols:\n",
    "        df[c] = (df[c].str.replace('\\%', '')\n",
    "                 .str.strip().astype(float))\n",
    "\n",
    "    df = common_cleaning(df, 'cases')\n",
    "    \n",
    "    return df"
   ]
  },
  {
   "cell_type": "code",
   "execution_count": 6,
   "metadata": {},
   "outputs": [],
   "source": [
    "def clean_wiki_deaths(df):\n",
    "    \n",
    "    # 1. delete reference column\n",
    "    if 'Ref.' in df.columns:\n",
    "        del df['Ref.']\n",
    "    if 'Reference' in df.columns:\n",
    "        del df['Reference']\n",
    "    \n",
    "    # 2. remove nan and other rows\n",
    "    df = df[df.index.notna()]\n",
    "    df = df[df.index.str.contains('[0-9]')] # not dates\n",
    "\n",
    "    df = common_cleaning(df, 'deaths')\n",
    "\n",
    "    return df"
   ]
  },
  {
   "cell_type": "code",
   "execution_count": 7,
   "metadata": {},
   "outputs": [],
   "source": [
    "def scrape_and_clean_data():\n",
    "    cases, deaths = scrape_wiki_data()\n",
    "    cases = clean_wiki_cases(cases)\n",
    "    deaths = clean_wiki_deaths(deaths)\n",
    "    \n",
    "    return cases, deaths"
   ]
  },
  {
   "cell_type": "markdown",
   "metadata": {},
   "source": [
    "### Data extraction / transformation"
   ]
  },
  {
   "cell_type": "code",
   "execution_count": 8,
   "metadata": {},
   "outputs": [
    {
     "name": "stderr",
     "output_type": "stream",
     "text": [
      "<ipython-input-5-376c82fa0e3d>:8: FutureWarning: The default value of regex will change from True to False in a future version.\n",
      "  df.columns = (df.columns.str.replace('\\[.*\\]', '')\n",
      "<ipython-input-5-376c82fa0e3d>:11: FutureWarning: The default value of regex will change from True to False in a future version.\n",
      "  df.index = df.index.str.replace('\\[.*\\]', '')\n",
      "<ipython-input-5-376c82fa0e3d>:26: FutureWarning: The default value of regex will change from True to False in a future version.\n",
      "  df[c] = (df[c].str.replace('\\[.*\\]', '').str.strip())\n",
      "<ipython-input-5-376c82fa0e3d>:32: FutureWarning: The default value of regex will change from True to False in a future version.\n",
      "  df[c] = (df[c].str.replace('\\%', '')\n"
     ]
    },
    {
     "ename": "ValueError",
     "evalue": "cannot reindex from a duplicate axis",
     "output_type": "error",
     "traceback": [
      "\u001b[0;31m---------------------------------------------------------------------------\u001b[0m",
      "\u001b[0;31mValueError\u001b[0m                                Traceback (most recent call last)",
      "\u001b[0;32m<ipython-input-8-35d8db877b94>\u001b[0m in \u001b[0;36m<module>\u001b[0;34m\u001b[0m\n\u001b[1;32m      8\u001b[0m \u001b[0;34m\u001b[0m\u001b[0m\n\u001b[1;32m      9\u001b[0m \u001b[0;31m# build the data\u001b[0m\u001b[0;34m\u001b[0m\u001b[0;34m\u001b[0m\u001b[0;34m\u001b[0m\u001b[0m\n\u001b[0;32m---> 10\u001b[0;31m \u001b[0mraws\u001b[0m \u001b[0;34m=\u001b[0m \u001b[0mscrape_and_clean_data\u001b[0m\u001b[0;34m(\u001b[0m\u001b[0;34m)\u001b[0m\u001b[0;34m\u001b[0m\u001b[0;34m\u001b[0m\u001b[0m\n\u001b[0m\u001b[1;32m     11\u001b[0m \u001b[0mMODES\u001b[0m \u001b[0;34m=\u001b[0m \u001b[0;34m[\u001b[0m\u001b[0;34m'cases'\u001b[0m\u001b[0;34m,\u001b[0m \u001b[0;34m'deaths'\u001b[0m\u001b[0;34m]\u001b[0m\u001b[0;34m\u001b[0m\u001b[0;34m\u001b[0m\u001b[0m\n\u001b[1;32m     12\u001b[0m \u001b[0mdata\u001b[0m \u001b[0;34m=\u001b[0m \u001b[0;34m{\u001b[0m\u001b[0;34m}\u001b[0m\u001b[0;34m\u001b[0m\u001b[0;34m\u001b[0m\u001b[0m\n",
      "\u001b[0;32m<ipython-input-7-070d82ff6998>\u001b[0m in \u001b[0;36mscrape_and_clean_data\u001b[0;34m()\u001b[0m\n\u001b[1;32m      1\u001b[0m \u001b[0;32mdef\u001b[0m \u001b[0mscrape_and_clean_data\u001b[0m\u001b[0;34m(\u001b[0m\u001b[0;34m)\u001b[0m\u001b[0;34m:\u001b[0m\u001b[0;34m\u001b[0m\u001b[0;34m\u001b[0m\u001b[0m\n\u001b[1;32m      2\u001b[0m     \u001b[0mcases\u001b[0m\u001b[0;34m,\u001b[0m \u001b[0mdeaths\u001b[0m \u001b[0;34m=\u001b[0m \u001b[0mscrape_wiki_data\u001b[0m\u001b[0;34m(\u001b[0m\u001b[0;34m)\u001b[0m\u001b[0;34m\u001b[0m\u001b[0;34m\u001b[0m\u001b[0m\n\u001b[0;32m----> 3\u001b[0;31m     \u001b[0mcases\u001b[0m \u001b[0;34m=\u001b[0m \u001b[0mclean_wiki_cases\u001b[0m\u001b[0;34m(\u001b[0m\u001b[0mcases\u001b[0m\u001b[0;34m)\u001b[0m\u001b[0;34m\u001b[0m\u001b[0;34m\u001b[0m\u001b[0m\n\u001b[0m\u001b[1;32m      4\u001b[0m     \u001b[0mdeaths\u001b[0m \u001b[0;34m=\u001b[0m \u001b[0mclean_wiki_deaths\u001b[0m\u001b[0;34m(\u001b[0m\u001b[0mdeaths\u001b[0m\u001b[0;34m)\u001b[0m\u001b[0;34m\u001b[0m\u001b[0;34m\u001b[0m\u001b[0m\n\u001b[1;32m      5\u001b[0m \u001b[0;34m\u001b[0m\u001b[0m\n",
      "\u001b[0;32m<ipython-input-5-376c82fa0e3d>\u001b[0m in \u001b[0;36mclean_wiki_cases\u001b[0;34m(df)\u001b[0m\n\u001b[1;32m     33\u001b[0m                  .str.strip().astype(float))\n\u001b[1;32m     34\u001b[0m \u001b[0;34m\u001b[0m\u001b[0m\n\u001b[0;32m---> 35\u001b[0;31m     \u001b[0mdf\u001b[0m \u001b[0;34m=\u001b[0m \u001b[0mcommon_cleaning\u001b[0m\u001b[0;34m(\u001b[0m\u001b[0mdf\u001b[0m\u001b[0;34m,\u001b[0m \u001b[0;34m'cases'\u001b[0m\u001b[0;34m)\u001b[0m\u001b[0;34m\u001b[0m\u001b[0;34m\u001b[0m\u001b[0m\n\u001b[0m\u001b[1;32m     36\u001b[0m \u001b[0;34m\u001b[0m\u001b[0m\n\u001b[1;32m     37\u001b[0m     \u001b[0;32mreturn\u001b[0m \u001b[0mdf\u001b[0m\u001b[0;34m\u001b[0m\u001b[0;34m\u001b[0m\u001b[0m\n",
      "\u001b[0;32m<ipython-input-4-1682b4ca6c9d>\u001b[0m in \u001b[0;36mcommon_cleaning\u001b[0;34m(df, mode)\u001b[0m\n\u001b[1;32m     24\u001b[0m \u001b[0;34m\u001b[0m\u001b[0m\n\u001b[1;32m     25\u001b[0m     \u001b[0midx\u001b[0m \u001b[0;34m=\u001b[0m \u001b[0mpd\u001b[0m\u001b[0;34m.\u001b[0m\u001b[0mdate_range\u001b[0m\u001b[0;34m(\u001b[0m\u001b[0mdf\u001b[0m\u001b[0;34m.\u001b[0m\u001b[0mindex\u001b[0m\u001b[0;34m.\u001b[0m\u001b[0mmin\u001b[0m\u001b[0;34m(\u001b[0m\u001b[0;34m)\u001b[0m\u001b[0;34m,\u001b[0m \u001b[0mdf\u001b[0m\u001b[0;34m.\u001b[0m\u001b[0mindex\u001b[0m\u001b[0;34m.\u001b[0m\u001b[0mmax\u001b[0m\u001b[0;34m(\u001b[0m\u001b[0;34m)\u001b[0m\u001b[0;34m)\u001b[0m\u001b[0;34m\u001b[0m\u001b[0;34m\u001b[0m\u001b[0m\n\u001b[0;32m---> 26\u001b[0;31m     \u001b[0mdf\u001b[0m \u001b[0;34m=\u001b[0m \u001b[0mdf\u001b[0m\u001b[0;34m.\u001b[0m\u001b[0mreindex\u001b[0m\u001b[0;34m(\u001b[0m\u001b[0midx\u001b[0m\u001b[0;34m,\u001b[0m \u001b[0mfill_value\u001b[0m\u001b[0;34m=\u001b[0m\u001b[0mnp\u001b[0m\u001b[0;34m.\u001b[0m\u001b[0mnan\u001b[0m\u001b[0;34m)\u001b[0m\u001b[0;34m\u001b[0m\u001b[0;34m\u001b[0m\u001b[0m\n\u001b[0m\u001b[1;32m     27\u001b[0m     \u001b[0mdf\u001b[0m \u001b[0;34m=\u001b[0m \u001b[0mdf\u001b[0m\u001b[0;34m.\u001b[0m\u001b[0mwhere\u001b[0m\u001b[0;34m(\u001b[0m\u001b[0mdf\u001b[0m \u001b[0;34m>\u001b[0m \u001b[0;36m0\u001b[0m\u001b[0;34m,\u001b[0m \u001b[0mother\u001b[0m\u001b[0;34m=\u001b[0m\u001b[0mnp\u001b[0m\u001b[0;34m.\u001b[0m\u001b[0mnan\u001b[0m\u001b[0;34m)\u001b[0m\u001b[0;34m.\u001b[0m\u001b[0mffill\u001b[0m\u001b[0;34m(\u001b[0m\u001b[0;34m)\u001b[0m\u001b[0;34m.\u001b[0m\u001b[0mfillna\u001b[0m\u001b[0;34m(\u001b[0m\u001b[0;36m0\u001b[0m\u001b[0;34m)\u001b[0m\u001b[0;31m#.astype(int)\u001b[0m\u001b[0;34m\u001b[0m\u001b[0;34m\u001b[0m\u001b[0m\n\u001b[1;32m     28\u001b[0m \u001b[0;34m\u001b[0m\u001b[0m\n",
      "\u001b[0;32m~/opt/anaconda3/lib/python3.8/site-packages/pandas/util/_decorators.py\u001b[0m in \u001b[0;36mwrapper\u001b[0;34m(*args, **kwargs)\u001b[0m\n\u001b[1;32m    310\u001b[0m         \u001b[0;34m@\u001b[0m\u001b[0mwraps\u001b[0m\u001b[0;34m(\u001b[0m\u001b[0mfunc\u001b[0m\u001b[0;34m)\u001b[0m\u001b[0;34m\u001b[0m\u001b[0;34m\u001b[0m\u001b[0m\n\u001b[1;32m    311\u001b[0m         \u001b[0;32mdef\u001b[0m \u001b[0mwrapper\u001b[0m\u001b[0;34m(\u001b[0m\u001b[0;34m*\u001b[0m\u001b[0margs\u001b[0m\u001b[0;34m,\u001b[0m \u001b[0;34m**\u001b[0m\u001b[0mkwargs\u001b[0m\u001b[0;34m)\u001b[0m \u001b[0;34m->\u001b[0m \u001b[0mCallable\u001b[0m\u001b[0;34m[\u001b[0m\u001b[0;34m...\u001b[0m\u001b[0;34m,\u001b[0m \u001b[0mAny\u001b[0m\u001b[0;34m]\u001b[0m\u001b[0;34m:\u001b[0m\u001b[0;34m\u001b[0m\u001b[0;34m\u001b[0m\u001b[0m\n\u001b[0;32m--> 312\u001b[0;31m             \u001b[0;32mreturn\u001b[0m \u001b[0mfunc\u001b[0m\u001b[0;34m(\u001b[0m\u001b[0;34m*\u001b[0m\u001b[0margs\u001b[0m\u001b[0;34m,\u001b[0m \u001b[0;34m**\u001b[0m\u001b[0mkwargs\u001b[0m\u001b[0;34m)\u001b[0m\u001b[0;34m\u001b[0m\u001b[0;34m\u001b[0m\u001b[0m\n\u001b[0m\u001b[1;32m    313\u001b[0m \u001b[0;34m\u001b[0m\u001b[0m\n\u001b[1;32m    314\u001b[0m         \u001b[0mkind\u001b[0m \u001b[0;34m=\u001b[0m \u001b[0minspect\u001b[0m\u001b[0;34m.\u001b[0m\u001b[0mParameter\u001b[0m\u001b[0;34m.\u001b[0m\u001b[0mPOSITIONAL_OR_KEYWORD\u001b[0m\u001b[0;34m\u001b[0m\u001b[0;34m\u001b[0m\u001b[0m\n",
      "\u001b[0;32m~/opt/anaconda3/lib/python3.8/site-packages/pandas/core/frame.py\u001b[0m in \u001b[0;36mreindex\u001b[0;34m(self, *args, **kwargs)\u001b[0m\n\u001b[1;32m   4174\u001b[0m         \u001b[0mkwargs\u001b[0m\u001b[0;34m.\u001b[0m\u001b[0mpop\u001b[0m\u001b[0;34m(\u001b[0m\u001b[0;34m\"axis\"\u001b[0m\u001b[0;34m,\u001b[0m \u001b[0;32mNone\u001b[0m\u001b[0;34m)\u001b[0m\u001b[0;34m\u001b[0m\u001b[0;34m\u001b[0m\u001b[0m\n\u001b[1;32m   4175\u001b[0m         \u001b[0mkwargs\u001b[0m\u001b[0;34m.\u001b[0m\u001b[0mpop\u001b[0m\u001b[0;34m(\u001b[0m\u001b[0;34m\"labels\"\u001b[0m\u001b[0;34m,\u001b[0m \u001b[0;32mNone\u001b[0m\u001b[0;34m)\u001b[0m\u001b[0;34m\u001b[0m\u001b[0;34m\u001b[0m\u001b[0m\n\u001b[0;32m-> 4176\u001b[0;31m         \u001b[0;32mreturn\u001b[0m \u001b[0msuper\u001b[0m\u001b[0;34m(\u001b[0m\u001b[0;34m)\u001b[0m\u001b[0;34m.\u001b[0m\u001b[0mreindex\u001b[0m\u001b[0;34m(\u001b[0m\u001b[0;34m**\u001b[0m\u001b[0mkwargs\u001b[0m\u001b[0;34m)\u001b[0m\u001b[0;34m\u001b[0m\u001b[0;34m\u001b[0m\u001b[0m\n\u001b[0m\u001b[1;32m   4177\u001b[0m \u001b[0;34m\u001b[0m\u001b[0m\n\u001b[1;32m   4178\u001b[0m     def drop(\n",
      "\u001b[0;32m~/opt/anaconda3/lib/python3.8/site-packages/pandas/core/generic.py\u001b[0m in \u001b[0;36mreindex\u001b[0;34m(self, *args, **kwargs)\u001b[0m\n\u001b[1;32m   4809\u001b[0m \u001b[0;34m\u001b[0m\u001b[0m\n\u001b[1;32m   4810\u001b[0m         \u001b[0;31m# perform the reindex on the axes\u001b[0m\u001b[0;34m\u001b[0m\u001b[0;34m\u001b[0m\u001b[0;34m\u001b[0m\u001b[0m\n\u001b[0;32m-> 4811\u001b[0;31m         return self._reindex_axes(\n\u001b[0m\u001b[1;32m   4812\u001b[0m             \u001b[0maxes\u001b[0m\u001b[0;34m,\u001b[0m \u001b[0mlevel\u001b[0m\u001b[0;34m,\u001b[0m \u001b[0mlimit\u001b[0m\u001b[0;34m,\u001b[0m \u001b[0mtolerance\u001b[0m\u001b[0;34m,\u001b[0m \u001b[0mmethod\u001b[0m\u001b[0;34m,\u001b[0m \u001b[0mfill_value\u001b[0m\u001b[0;34m,\u001b[0m \u001b[0mcopy\u001b[0m\u001b[0;34m\u001b[0m\u001b[0;34m\u001b[0m\u001b[0m\n\u001b[1;32m   4813\u001b[0m         ).__finalize__(self, method=\"reindex\")\n",
      "\u001b[0;32m~/opt/anaconda3/lib/python3.8/site-packages/pandas/core/frame.py\u001b[0m in \u001b[0;36m_reindex_axes\u001b[0;34m(self, axes, level, limit, tolerance, method, fill_value, copy)\u001b[0m\n\u001b[1;32m   4020\u001b[0m         \u001b[0mindex\u001b[0m \u001b[0;34m=\u001b[0m \u001b[0maxes\u001b[0m\u001b[0;34m[\u001b[0m\u001b[0;34m\"index\"\u001b[0m\u001b[0;34m]\u001b[0m\u001b[0;34m\u001b[0m\u001b[0;34m\u001b[0m\u001b[0m\n\u001b[1;32m   4021\u001b[0m         \u001b[0;32mif\u001b[0m \u001b[0mindex\u001b[0m \u001b[0;32mis\u001b[0m \u001b[0;32mnot\u001b[0m \u001b[0;32mNone\u001b[0m\u001b[0;34m:\u001b[0m\u001b[0;34m\u001b[0m\u001b[0;34m\u001b[0m\u001b[0m\n\u001b[0;32m-> 4022\u001b[0;31m             frame = frame._reindex_index(\n\u001b[0m\u001b[1;32m   4023\u001b[0m                 \u001b[0mindex\u001b[0m\u001b[0;34m,\u001b[0m \u001b[0mmethod\u001b[0m\u001b[0;34m,\u001b[0m \u001b[0mcopy\u001b[0m\u001b[0;34m,\u001b[0m \u001b[0mlevel\u001b[0m\u001b[0;34m,\u001b[0m \u001b[0mfill_value\u001b[0m\u001b[0;34m,\u001b[0m \u001b[0mlimit\u001b[0m\u001b[0;34m,\u001b[0m \u001b[0mtolerance\u001b[0m\u001b[0;34m\u001b[0m\u001b[0;34m\u001b[0m\u001b[0m\n\u001b[1;32m   4024\u001b[0m             )\n",
      "\u001b[0;32m~/opt/anaconda3/lib/python3.8/site-packages/pandas/core/frame.py\u001b[0m in \u001b[0;36m_reindex_index\u001b[0;34m(self, new_index, method, copy, level, fill_value, limit, tolerance)\u001b[0m\n\u001b[1;32m   4039\u001b[0m             \u001b[0mnew_index\u001b[0m\u001b[0;34m,\u001b[0m \u001b[0mmethod\u001b[0m\u001b[0;34m=\u001b[0m\u001b[0mmethod\u001b[0m\u001b[0;34m,\u001b[0m \u001b[0mlevel\u001b[0m\u001b[0;34m=\u001b[0m\u001b[0mlevel\u001b[0m\u001b[0;34m,\u001b[0m \u001b[0mlimit\u001b[0m\u001b[0;34m=\u001b[0m\u001b[0mlimit\u001b[0m\u001b[0;34m,\u001b[0m \u001b[0mtolerance\u001b[0m\u001b[0;34m=\u001b[0m\u001b[0mtolerance\u001b[0m\u001b[0;34m\u001b[0m\u001b[0;34m\u001b[0m\u001b[0m\n\u001b[1;32m   4040\u001b[0m         )\n\u001b[0;32m-> 4041\u001b[0;31m         return self._reindex_with_indexers(\n\u001b[0m\u001b[1;32m   4042\u001b[0m             \u001b[0;34m{\u001b[0m\u001b[0;36m0\u001b[0m\u001b[0;34m:\u001b[0m \u001b[0;34m[\u001b[0m\u001b[0mnew_index\u001b[0m\u001b[0;34m,\u001b[0m \u001b[0mindexer\u001b[0m\u001b[0;34m]\u001b[0m\u001b[0;34m}\u001b[0m\u001b[0;34m,\u001b[0m\u001b[0;34m\u001b[0m\u001b[0;34m\u001b[0m\u001b[0m\n\u001b[1;32m   4043\u001b[0m             \u001b[0mcopy\u001b[0m\u001b[0;34m=\u001b[0m\u001b[0mcopy\u001b[0m\u001b[0;34m,\u001b[0m\u001b[0;34m\u001b[0m\u001b[0;34m\u001b[0m\u001b[0m\n",
      "\u001b[0;32m~/opt/anaconda3/lib/python3.8/site-packages/pandas/core/generic.py\u001b[0m in \u001b[0;36m_reindex_with_indexers\u001b[0;34m(self, reindexers, fill_value, copy, allow_dups)\u001b[0m\n\u001b[1;32m   4875\u001b[0m \u001b[0;34m\u001b[0m\u001b[0m\n\u001b[1;32m   4876\u001b[0m             \u001b[0;31m# TODO: speed up on homogeneous DataFrame objects\u001b[0m\u001b[0;34m\u001b[0m\u001b[0;34m\u001b[0m\u001b[0;34m\u001b[0m\u001b[0m\n\u001b[0;32m-> 4877\u001b[0;31m             new_data = new_data.reindex_indexer(\n\u001b[0m\u001b[1;32m   4878\u001b[0m                 \u001b[0mindex\u001b[0m\u001b[0;34m,\u001b[0m\u001b[0;34m\u001b[0m\u001b[0;34m\u001b[0m\u001b[0m\n\u001b[1;32m   4879\u001b[0m                 \u001b[0mindexer\u001b[0m\u001b[0;34m,\u001b[0m\u001b[0;34m\u001b[0m\u001b[0;34m\u001b[0m\u001b[0m\n",
      "\u001b[0;32m~/opt/anaconda3/lib/python3.8/site-packages/pandas/core/internals/managers.py\u001b[0m in \u001b[0;36mreindex_indexer\u001b[0;34m(self, new_axis, indexer, axis, fill_value, allow_dups, copy, consolidate, only_slice)\u001b[0m\n\u001b[1;32m   1299\u001b[0m         \u001b[0;31m# some axes don't allow reindexing with dups\u001b[0m\u001b[0;34m\u001b[0m\u001b[0;34m\u001b[0m\u001b[0;34m\u001b[0m\u001b[0m\n\u001b[1;32m   1300\u001b[0m         \u001b[0;32mif\u001b[0m \u001b[0;32mnot\u001b[0m \u001b[0mallow_dups\u001b[0m\u001b[0;34m:\u001b[0m\u001b[0;34m\u001b[0m\u001b[0;34m\u001b[0m\u001b[0m\n\u001b[0;32m-> 1301\u001b[0;31m             \u001b[0mself\u001b[0m\u001b[0;34m.\u001b[0m\u001b[0maxes\u001b[0m\u001b[0;34m[\u001b[0m\u001b[0maxis\u001b[0m\u001b[0;34m]\u001b[0m\u001b[0;34m.\u001b[0m\u001b[0m_can_reindex\u001b[0m\u001b[0;34m(\u001b[0m\u001b[0mindexer\u001b[0m\u001b[0;34m)\u001b[0m\u001b[0;34m\u001b[0m\u001b[0;34m\u001b[0m\u001b[0m\n\u001b[0m\u001b[1;32m   1302\u001b[0m \u001b[0;34m\u001b[0m\u001b[0m\n\u001b[1;32m   1303\u001b[0m         \u001b[0;32mif\u001b[0m \u001b[0maxis\u001b[0m \u001b[0;34m>=\u001b[0m \u001b[0mself\u001b[0m\u001b[0;34m.\u001b[0m\u001b[0mndim\u001b[0m\u001b[0;34m:\u001b[0m\u001b[0;34m\u001b[0m\u001b[0;34m\u001b[0m\u001b[0m\n",
      "\u001b[0;32m~/opt/anaconda3/lib/python3.8/site-packages/pandas/core/indexes/base.py\u001b[0m in \u001b[0;36m_can_reindex\u001b[0;34m(self, indexer)\u001b[0m\n\u001b[1;32m   3474\u001b[0m         \u001b[0;31m# trying to reindex on an axis with duplicates\u001b[0m\u001b[0;34m\u001b[0m\u001b[0;34m\u001b[0m\u001b[0;34m\u001b[0m\u001b[0m\n\u001b[1;32m   3475\u001b[0m         \u001b[0;32mif\u001b[0m \u001b[0;32mnot\u001b[0m \u001b[0mself\u001b[0m\u001b[0;34m.\u001b[0m\u001b[0m_index_as_unique\u001b[0m \u001b[0;32mand\u001b[0m \u001b[0mlen\u001b[0m\u001b[0;34m(\u001b[0m\u001b[0mindexer\u001b[0m\u001b[0;34m)\u001b[0m\u001b[0;34m:\u001b[0m\u001b[0;34m\u001b[0m\u001b[0;34m\u001b[0m\u001b[0m\n\u001b[0;32m-> 3476\u001b[0;31m             \u001b[0;32mraise\u001b[0m \u001b[0mValueError\u001b[0m\u001b[0;34m(\u001b[0m\u001b[0;34m\"cannot reindex from a duplicate axis\"\u001b[0m\u001b[0;34m)\u001b[0m\u001b[0;34m\u001b[0m\u001b[0;34m\u001b[0m\u001b[0m\n\u001b[0m\u001b[1;32m   3477\u001b[0m \u001b[0;34m\u001b[0m\u001b[0m\n\u001b[1;32m   3478\u001b[0m     \u001b[0;32mdef\u001b[0m \u001b[0mreindex\u001b[0m\u001b[0;34m(\u001b[0m\u001b[0mself\u001b[0m\u001b[0;34m,\u001b[0m \u001b[0mtarget\u001b[0m\u001b[0;34m,\u001b[0m \u001b[0mmethod\u001b[0m\u001b[0;34m=\u001b[0m\u001b[0;32mNone\u001b[0m\u001b[0;34m,\u001b[0m \u001b[0mlevel\u001b[0m\u001b[0;34m=\u001b[0m\u001b[0;32mNone\u001b[0m\u001b[0;34m,\u001b[0m \u001b[0mlimit\u001b[0m\u001b[0;34m=\u001b[0m\u001b[0;32mNone\u001b[0m\u001b[0;34m,\u001b[0m \u001b[0mtolerance\u001b[0m\u001b[0;34m=\u001b[0m\u001b[0;32mNone\u001b[0m\u001b[0;34m)\u001b[0m\u001b[0;34m:\u001b[0m\u001b[0;34m\u001b[0m\u001b[0;34m\u001b[0m\u001b[0m\n",
      "\u001b[0;31mValueError\u001b[0m: cannot reindex from a duplicate axis"
     ]
    }
   ],
   "source": [
    "# reference points\n",
    "RAW_CUM = 0\n",
    "RAW_DAILY = 1\n",
    "COOKED_DAILY = 2\n",
    "COOKED_CUM = 3\n",
    "\n",
    "QUALITY = 'quality'\n",
    "\n",
    "# build the data\n",
    "raws = scrape_and_clean_data()\n",
    "MODES = ['cases', 'deaths']\n",
    "data = {}\n",
    "for mode, raw in zip(MODES, raws):\n",
    "    \n",
    "    # process the data for outlires\n",
    "    raw = raw[raw.columns[:N_STATES]]\n",
    "    processed = ps.dataframe_correction(raw, verbose=False)\n",
    "    data[mode] = [raw] + list(processed)\n",
    "    \n",
    "    # record if this changed the data\n",
    "    quality = {}\n",
    "    for state in raw.columns:\n",
    "        if (data[mode][RAW_DAILY][state] == \n",
    "            data[mode][COOKED_DAILY][state]).all():\n",
    "            quality[state] = 'Original data'\n",
    "        else:\n",
    "            quality[state] = 'Extreme outliers have been adjusted'\n",
    "    data[mode+QUALITY] = quality"
   ]
  },
  {
   "cell_type": "markdown",
   "metadata": {},
   "source": [
    "### Report on data extraction"
   ]
  },
  {
   "cell_type": "code",
   "execution_count": null,
   "metadata": {},
   "outputs": [],
   "source": [
    "for mode in MODES:\n",
    "    print(mode)\n",
    "    display(data[mode][RAW_CUM].iloc[-3:])"
   ]
  },
  {
   "cell_type": "markdown",
   "metadata": {},
   "source": [
    "## Normal and semilog plot of cumulative by state"
   ]
  },
  {
   "cell_type": "code",
   "execution_count": null,
   "metadata": {},
   "outputs": [],
   "source": [
    "def semilog_plot(states_data, mode):\n",
    "    \n",
    "    power = 6\n",
    "    pop_factor = int(10 ** power)\n",
    "\n",
    "    for per_capita in [False, True]:\n",
    "        \n",
    "        if per_capita:\n",
    "            states_data = states_data / state_pop * pop_factor\n",
    "            states_data = states_data[state_names]\n",
    "            title = f' per $10^{power}$ pop'\n",
    "            filename = '-per-capita'\n",
    "            \n",
    "        else:\n",
    "            title = ''\n",
    "            filename= ''\n",
    "    \n",
    "        ax = plt.subplot()\n",
    "        ax.margins(0.01)\n",
    "        ax.xaxis_date()\n",
    "\n",
    "        for i, name in enumerate(states_data.columns):\n",
    "            ax.plot(states_data[name].index, \n",
    "                    states_data[name], lw=2, \n",
    "                    color=AU_COLOURS[i], label=name)\n",
    "\n",
    "        ax.legend(loc='best', ncol=2)\n",
    "\n",
    "        ps.finalise_plot(ax, \n",
    "                         title= 'Cumulative COVID19 '\n",
    "                               f'{mode.title()}{title}',\n",
    "                         xlabel=None,\n",
    "                         ylabel=f'{mode.title()}{title}',\n",
    "                         chart_directory=CHART_DIRECTORY,\n",
    "                         rfooter=SOURCE,\n",
    "                         dont_close=True,\n",
    "                         show=True,\n",
    "                        )\n",
    "\n",
    "        ps.finalise_plot(ax, \n",
    "                         title= 'Cumulative COVID19 '\n",
    "                                f'{mode.title()}{title} (log scale)',\n",
    "                         xlabel=None,\n",
    "                         ylabel=f'{mode.title()}{title} (log scale)',\n",
    "                         yscale='log',\n",
    "                         chart_directory=CHART_DIRECTORY,\n",
    "                         rfooter=SOURCE,\n",
    "                         display=True,\n",
    "                        )"
   ]
  },
  {
   "cell_type": "markdown",
   "metadata": {},
   "source": [
    "### Produce plots"
   ]
  },
  {
   "cell_type": "code",
   "execution_count": null,
   "metadata": {
    "scrolled": false
   },
   "outputs": [],
   "source": [
    "for mode in MODES:\n",
    "    semilog_plot(data[mode][COOKED_CUM].copy(), \n",
    "                 mode, \n",
    "                )"
   ]
  },
  {
   "cell_type": "markdown",
   "metadata": {},
   "source": [
    "## Total bar charts - most recent day"
   ]
  },
  {
   "cell_type": "markdown",
   "metadata": {},
   "source": [
    "### bar chart - cumulative cases"
   ]
  },
  {
   "cell_type": "code",
   "execution_count": null,
   "metadata": {},
   "outputs": [],
   "source": [
    "def bar_chart_cumulative(states_data, mode):\n",
    "    states_data[AUSTRALIA] = states_data.sum(axis=1)\n",
    "    latest = states_data.iloc[-1]\n",
    "    date = states_data.index[-1].ctime()[:10]\n",
    "    latest = latest.sort_values()\n",
    "    ps.plot_barh(latest, \n",
    "        title=f'Cumulative COVID19 {mode.title()}: Australian States',\n",
    "        save_as = f'{CHART_DIRECTORY}!bar-chart-cumulative-{mode}.png',\n",
    "        rfooter=SOURCE + ' ' + date,\n",
    "        show=True,\n",
    "    )\n",
    "    return (latest, date)"
   ]
  },
  {
   "cell_type": "markdown",
   "metadata": {},
   "source": [
    "### bar chart - cumulative cases per capita"
   ]
  },
  {
   "cell_type": "code",
   "execution_count": null,
   "metadata": {},
   "outputs": [],
   "source": [
    "def bar_chart_cum_per_capita(latest, mode, date):\n",
    "    power = 6\n",
    "    pop_factor = int(10 ** power)\n",
    "    latest = (latest / state_pop) * pop_factor\n",
    "    latest = latest[state_pop.index].round(2) # pop order\n",
    "    ps.plot_barh(latest, \n",
    "                 title=f'Cumulative COVID19 {mode.title()} per '\n",
    "                       f'$10^{power}$ pop: Australian States',\n",
    "                 save_as = f'{CHART_DIRECTORY}!bar-chart-per-'\n",
    "                           f'capita-cumulative-{mode}.png',\n",
    "                 rfooter=SOURCE + ' ' + date,\n",
    "                 show=True,\n",
    "                )"
   ]
  },
  {
   "cell_type": "markdown",
   "metadata": {},
   "source": [
    "### Produce the bar charts"
   ]
  },
  {
   "cell_type": "code",
   "execution_count": null,
   "metadata": {},
   "outputs": [],
   "source": [
    "if False: # Switch: Turn this ouput on or off\n",
    "    \n",
    "    for mode in MODES:\n",
    "        latest, date = bar_chart_cumulative(data[mode][RAW_CUM].astype(int), \n",
    "                             mode, \n",
    "                            )\n",
    "        bar_chart_cum_per_capita(latest, mode, date)"
   ]
  },
  {
   "cell_type": "markdown",
   "metadata": {},
   "source": [
    "## Chart new and cumulative cases"
   ]
  },
  {
   "cell_type": "code",
   "execution_count": null,
   "metadata": {},
   "outputs": [],
   "source": [
    "def plot_new_and_cum_cases(states_new, states_cum, mode, data_quality):\n",
    "    states_cum = states_cum.T\n",
    "    previous = states_cum.columns.min() - pd.DateOffset(days=1)\n",
    "    states_cum[previous] = 0\n",
    "    states_cum = states_cum.T.sort_index()\n",
    "\n",
    "    for name in states_cum.columns:\n",
    "        ps.plot_new_cum(\n",
    "            states_new[name].copy(), \n",
    "            states_cum[name].copy(), \n",
    "            mode, \n",
    "            name,\n",
    "            'day',\n",
    "            title=f'{name} COVID-19 {mode.title()}',\n",
    "            rfooter=data_quality[name],\n",
    "            chart_directory=CHART_DIRECTORY+'-!daily-',\n",
    "            save_tag=\"-daily\",\n",
    "            show=True,\n",
    "        )"
   ]
  },
  {
   "cell_type": "markdown",
   "metadata": {},
   "source": [
    "### Produce the daily new/cum charts"
   ]
  },
  {
   "cell_type": "code",
   "execution_count": null,
   "metadata": {
    "scrolled": false
   },
   "outputs": [],
   "source": [
    "for mode in MODES:\n",
    "    cum = data[mode][COOKED_CUM].copy()\n",
    "    cum['Australia'] = cum.sum(axis=1)\n",
    "    \n",
    "    new = data[mode][COOKED_DAILY].copy()\n",
    "    new['Australia'] = new.sum(axis=1)\n",
    "    \n",
    "    quality = data[mode+QUALITY].copy()\n",
    "    for state in quality:\n",
    "        quality[state] = (SOURCE + '; ' +\n",
    "                          quality[state])\n",
    "    quality['Australia'] = (SOURCE + '; ' +\n",
    "                            'Outliers have been adjusted')\n",
    "\n",
    "    plot_new_and_cum_cases(new, cum, mode, quality)\n"
   ]
  },
  {
   "cell_type": "markdown",
   "metadata": {},
   "source": [
    "## Plot new cases: raw and smoothed"
   ]
  },
  {
   "cell_type": "code",
   "execution_count": null,
   "metadata": {},
   "outputs": [],
   "source": [
    "def plot_new_original_smoothed(states_new, mode):\n",
    "    HMA = 15\n",
    "    smooth_all = pd.DataFrame()\n",
    "    rolling_all = pd.DataFrame()\n",
    "    for name in states_new.columns:\n",
    "        smooth_all[name] = ps.plot_orig_smooth(states_new[name], \n",
    "            HMA, \n",
    "            mode,\n",
    "            'Australia', \n",
    "            title=f'Daily New {mode.title()} in {name}', \n",
    "            ylabel=f'New {mode} per day',\n",
    "            rfooter=SOURCE,\n",
    "            save_as=f'{CHART_DIRECTORY}new-{mode}-chart-{name}.png'\n",
    "\n",
    "        )\n",
    "        rolling_all[name] = states_new[name].rolling(7).mean()\n",
    "\n",
    "    # latest per-captia comparison \n",
    "    power = 6\n",
    "    pop_factor = int(10 ** power)\n",
    "    latest = rolling_all.iloc[-1]  \n",
    "    latest = (latest / state_pop) * pop_factor\n",
    "    latest = latest[state_pop.index].round(2) # pop order\n",
    "    ps.plot_barh(latest,\n",
    "        title=f'Daily New COVID19 {mode.title()} (7 day ave.) per $10^{power}$ pop.',\n",
    "        save_as=f'{CHART_DIRECTORY}bar-chart-per-capita-new-{mode}.png',\n",
    "        rfooter=SOURCE,\n",
    "        show=True,\n",
    "    )"
   ]
  },
  {
   "cell_type": "markdown",
   "metadata": {},
   "source": [
    "## Growth factor"
   ]
  },
  {
   "cell_type": "code",
   "execution_count": null,
   "metadata": {},
   "outputs": [],
   "source": [
    "def plot_growth_factor(states_new, mode):\n",
    "    for name in states_new.columns:\n",
    "        ps.plot_growth_factor(states_new[name], \n",
    "            title=f'Week on Week Growth - New COVID-19 {mode.title()} in {name}',\n",
    "            ylabel='Growth factor',\n",
    "            xlabel=None,\n",
    "            save_as=f'{CHART_DIRECTORY}growth-chart-{name}-{mode}.png',\n",
    "            rfooter=SOURCE,\n",
    "            lfooter=f'Weekly rolling average daily new {mode.lower()} this week / last week',\n",
    "            show=True,\n",
    "        )"
   ]
  },
  {
   "cell_type": "markdown",
   "metadata": {},
   "source": [
    "## Regional per capita"
   ]
  },
  {
   "cell_type": "code",
   "execution_count": null,
   "metadata": {},
   "outputs": [],
   "source": [
    "def regional(df, mode):\n",
    "\n",
    "    if 'Total' in df:\n",
    "        del df['Total']\n",
    "        \n",
    "    regions = {\n",
    "        'Australia': ['NSW', 'VIC', 'QLD', 'WA', 'SA', 'TAS', 'ACT', 'NT'],\n",
    "    }\n",
    "    \n",
    "    #old = plt.rcParams['axes.prop_cycle'].by_key()['color']\n",
    "    mpl.rcParams['axes.prop_cycle'] = mpl.cycler(color=AU_COLOURS)\n",
    "    \n",
    "    ps.plot_regional_per_captia(\n",
    "        df[regions['Australia']], mode, regions, state_pop, \n",
    "        title=f'State per capita {mode.title()}',\n",
    "        rfooter=SOURCE,\n",
    "        chart_directory=CHART_DIRECTORY,\n",
    "        show=True,\n",
    "    )"
   ]
  },
  {
   "cell_type": "markdown",
   "metadata": {},
   "source": [
    "## Recent"
   ]
  },
  {
   "cell_type": "code",
   "execution_count": null,
   "metadata": {},
   "outputs": [],
   "source": [
    "def recent(df, mode):\n",
    "    RECENT = 62 # days\n",
    "    MA1 = 7 # days\n",
    "    MA2 = 14 # dats\n",
    "    plt.style.use('ggplot')\n",
    "    \n",
    "    for col in df.columns:\n",
    "        series = df[col]\n",
    "        \n",
    "        if series.iloc[-RECENT:].sum() <= 0: \n",
    "            continue\n",
    "        ma1 = series.rolling(MA1).mean()\n",
    "        ma2 = series.rolling(MA2).mean()\n",
    "        \n",
    "        MARGINS = 0.01\n",
    "        fig, ax = plt.subplots()\n",
    "        ax.xaxis_date()\n",
    "        ax.margins(MARGINS) # seems to work here\n",
    "        \n",
    "        #series.iloc[-RECENT:].plot.\n",
    "        ax.bar(series.iloc[-RECENT:].index.values, series.iloc[-RECENT:], label=mode, color='#dd0000')\n",
    "        ax.plot(ma1.iloc[-RECENT:].index.values, ma1.iloc[-RECENT:], label=f'{MA1} day ave.', color='darkorange')\n",
    "        ax.plot(ma2.iloc[-RECENT:].index.values, ma2.iloc[-RECENT:], label=f'{MA2} day ave.', color='cornflowerblue')\n",
    "        ax.legend(loc='best')\n",
    "        title = f'Recent New COVID19 {mode.title()} in {col} '\n",
    "        ps.finalise_plot(ax, title=title,\n",
    "                         ylabel=f'Daily New COVID {mode.title()}',\n",
    "                         rfooter=SOURCE,\n",
    "                         chart_directory=CHART_DIRECTORY,\n",
    "                         show=True,\n",
    "                        )"
   ]
  },
  {
   "cell_type": "markdown",
   "metadata": {},
   "source": [
    "## The End"
   ]
  },
  {
   "cell_type": "code",
   "execution_count": null,
   "metadata": {},
   "outputs": [],
   "source": [
    "print('Finished')"
   ]
  },
  {
   "cell_type": "code",
   "execution_count": null,
   "metadata": {},
   "outputs": [],
   "source": []
  }
 ],
 "metadata": {
  "kernelspec": {
   "display_name": "Python 3",
   "language": "python",
   "name": "python3"
  },
  "language_info": {
   "codemirror_mode": {
    "name": "ipython",
    "version": 3
   },
   "file_extension": ".py",
   "mimetype": "text/x-python",
   "name": "python",
   "nbconvert_exporter": "python",
   "pygments_lexer": "ipython3",
   "version": "3.8.5"
  },
  "toc": {
   "base_numbering": 1,
   "nav_menu": {},
   "number_sections": true,
   "sideBar": true,
   "skip_h1_title": true,
   "title_cell": "Table of Contents",
   "title_sidebar": "Contents",
   "toc_cell": true,
   "toc_position": {
    "height": "calc(100% - 180px)",
    "left": "10px",
    "top": "150px",
    "width": "195.297px"
   },
   "toc_section_display": true,
   "toc_window_display": false
  }
 },
 "nbformat": 4,
 "nbformat_minor": 4
}
